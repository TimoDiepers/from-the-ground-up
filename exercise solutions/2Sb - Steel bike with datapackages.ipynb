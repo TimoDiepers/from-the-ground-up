{
 "cells": [
  {
   "cell_type": "markdown",
   "id": "47199471-b454-4d7f-b4b8-34d7cfdfce9a",
   "metadata": {},
   "source": [
    "## Exercise\n",
    "\n",
    "Do the same for your steel bike. Make sure you get the same LCIA results as before."
   ]
  },
  {
   "cell_type": "code",
   "execution_count": 1,
   "id": "97ed6cd4-b20d-4236-8985-d5580be99b18",
   "metadata": {},
   "outputs": [],
   "source": [
    "import bw2calc as bc\n",
    "import bw_processing as bwp\n",
    "import matrix_utils as mu\n",
    "import numpy as np\n",
    "import stats_arrays as sa\n",
    "import seaborn as sb"
   ]
  },
  {
   "cell_type": "code",
   "execution_count": 2,
   "id": "7a30f9eb-8914-4273-925f-3d78893cd7bc",
   "metadata": {},
   "outputs": [],
   "source": [
    "coal = 900\n",
    "steel = 901\n",
    "iron_mining = 902\n",
    "steel_bike = 903\n",
    "iron_ore = 1000"
   ]
  },
  {
   "cell_type": "code",
   "execution_count": 3,
   "id": "23951444-84a2-40b5-9687-e3cbd3053dc2",
   "metadata": {},
   "outputs": [],
   "source": [
    "t_data = np.array([\n",
    "    1,\n",
    "    1,\n",
    "    1,\n",
    "    1,\n",
    "    1.1,\n",
    "    0.2,\n",
    "    8,\n",
    "    0.001,\n",
    "    0.001,\n",
    "    0.005,\n",
    "])\n",
    "t_indices = np.array(\n",
    "    [\n",
    "        (coal, coal),\n",
    "        (steel, steel),\n",
    "        (iron_mining, iron_mining),\n",
    "        (steel_bike, steel_bike),\n",
    "        (iron_mining, steel),\n",
    "        (coal, steel),\n",
    "        (steel, steel_bike),\n",
    "        (steel_bike, iron_mining),\n",
    "        (steel_bike, coal),\n",
    "        (steel_bike, steel),\n",
    "    ], \n",
    "    dtype=bwp.INDICES_DTYPE\n",
    ")\n",
    "t_uncertainty = np.array([\n",
    "        (sa.NoUncertainty.id, 1, np.NaN, np.NaN, np.NaN, np.NaN, False),\n",
    "        (sa.NoUncertainty.id, 1, np.NaN, np.NaN, np.NaN, np.NaN, False),\n",
    "        (sa.NoUncertainty.id, 1, np.NaN, np.NaN, np.NaN, np.NaN, False),\n",
    "        (sa.NoUncertainty.id, 1, np.NaN, np.NaN, np.NaN, np.NaN, False),\n",
    "        (sa.TriangularUncertainty.id, 1.1, np.NaN, np.NaN, 1, 1.25, False), \n",
    "        (sa.TriangularUncertainty.id, 0.2, np.NaN, np.NaN, 0.1, 0.5, False),\n",
    "        (sa.TriangularUncertainty.id, 8, np.NaN, np.NaN, 4, 15, False),\n",
    "        (sa.NoUncertainty.id, 0.001, np.NaN, np.NaN, np.NaN, np.NaN, False),\n",
    "        (sa.NoUncertainty.id, 0.001, np.NaN, np.NaN, np.NaN, np.NaN, False),\n",
    "        (sa.NoUncertainty.id, 0.005, np.NaN, np.NaN, np.NaN, np.NaN, False),\n",
    "    ], \n",
    "    dtype=bwp.UNCERTAINTY_DTYPE\n",
    ")\n",
    "t_flip = np.array([False, False, False, False, True, True, True, True, True, True])"
   ]
  },
  {
   "cell_type": "code",
   "execution_count": 4,
   "id": "15eaabd8-0b91-4973-a7d6-cb6b5ed9f54e",
   "metadata": {},
   "outputs": [],
   "source": [
    "b_data = np.array([1.25])\n",
    "b_uncertainty = np.array([\n",
    "        (sa.TriangularUncertainty.id, 1.25, np.NaN, np.NaN, 1, 1.75, False), \n",
    "    ], \n",
    "    dtype=bwp.UNCERTAINTY_DTYPE\n",
    ")\n",
    "b_indices = np.array([\n",
    "    (iron_ore, iron_mining),\n",
    "    ], \n",
    "    dtype=bwp.INDICES_DTYPE\n",
    ")"
   ]
  },
  {
   "cell_type": "code",
   "execution_count": 5,
   "id": "4e6efb7c-cac3-4536-b93e-da76fa2a49a3",
   "metadata": {},
   "outputs": [],
   "source": [
    "c_data = np.array([3.141])\n",
    "c_uncertainty = np.array([\n",
    "        (sa.NormalUncertainty.id, 3.141, 0.5926535, np.NaN, np.NaN, np.NaN, False), \n",
    "    ], \n",
    "    dtype=bwp.UNCERTAINTY_DTYPE\n",
    ")\n",
    "c_indices = np.array([\n",
    "    (iron_ore, iron_ore),\n",
    "    ], \n",
    "    dtype=bwp.INDICES_DTYPE\n",
    ")"
   ]
  },
  {
   "cell_type": "markdown",
   "id": "53f00163-c997-4555-a563-8a767e75f2fa",
   "metadata": {},
   "source": [
    "We can now create our datapackage, and add the data for all three matrices to it:"
   ]
  },
  {
   "cell_type": "code",
   "execution_count": 6,
   "id": "a7fc1602-4fad-45c8-a84f-f47943bfe739",
   "metadata": {},
   "outputs": [],
   "source": [
    "dp_steel_bike = bwp.create_datapackage()"
   ]
  },
  {
   "cell_type": "code",
   "execution_count": 7,
   "id": "46e9a1b2-6ec3-4627-924a-646a4e8e64a1",
   "metadata": {},
   "outputs": [],
   "source": [
    "dp_steel_bike.add_persistent_vector(\n",
    "    matrix='technosphere_matrix',\n",
    "    indices_array=t_indices,\n",
    "    data_array=t_data,\n",
    "    flip_array=t_flip,\n",
    "    distributions_array=t_uncertainty,\n",
    ")\n",
    "dp_steel_bike.add_persistent_vector(\n",
    "    matrix='biosphere_matrix',\n",
    "    indices_array=b_indices,\n",
    "    data_array=b_data,\n",
    "    distributions_array=b_uncertainty,\n",
    ")"
   ]
  },
  {
   "cell_type": "code",
   "execution_count": 8,
   "id": "10885b45-a162-43b4-b55e-f6f84347879e",
   "metadata": {},
   "outputs": [],
   "source": [
    "dp_steel_bike_lcia = bwp.create_datapackage()\n",
    "dp_steel_bike_lcia.add_persistent_vector(\n",
    "    matrix='characterization_matrix',\n",
    "    indices_array=c_indices,\n",
    "    data_array=c_data,\n",
    "    distributions_array=c_uncertainty,\n",
    ")"
   ]
  },
  {
   "cell_type": "code",
   "execution_count": 9,
   "id": "4de9b4ab-ce03-4ab3-9e56-42420875356c",
   "metadata": {},
   "outputs": [],
   "source": [
    "lca = bc.LCA(\n",
    "    demand={steel_bike: 1},\n",
    "    data_objs=[dp_steel_bike, dp_steel_bike_lcia],\n",
    "    use_distributions=True,\n",
    ")\n",
    "lca.lci()\n",
    "lca.lcia()"
   ]
  },
  {
   "cell_type": "code",
   "execution_count": 10,
   "id": "9da216fe-c551-4b7f-bbc0-76db86a1dbe5",
   "metadata": {},
   "outputs": [
    {
     "data": {
      "text/plain": [
       "<seaborn.axisgrid.FacetGrid at 0x7f0b1ca74a70>"
      ]
     },
     "execution_count": 10,
     "metadata": {},
     "output_type": "execute_result"
    },
    {
     "data": {
      "image/png": "[encoded data removed]",
      "text/plain": [
       "<Figure size 500x500 with 1 Axes>"
      ]
     },
     "metadata": {},
     "output_type": "display_data"
    }
   ],
   "source": [
    "mc_results = [lca.score for _ in zip(range(50), lca)]\n",
    "sb.displot(np.array(mc_results))"
   ]
  },
  {
   "cell_type": "markdown",
   "id": "171ee4c7-7574-414e-8b66-41a6e163bf04",
   "metadata": {},
   "source": [
    "## Exercise\n",
    "\n",
    "Can you build a half steel, half carbon fiber bike? Can you construct scenarios to vary the percentages (say, three scenarios)?"
   ]
  },
  {
   "cell_type": "code",
   "execution_count": 11,
   "id": "38bdf94c-bb42-489b-8805-592a08c46e01",
   "metadata": {},
   "outputs": [],
   "source": [
    "natural_gas = 101\n",
    "carbon_fibre = 102\n",
    "bike = 103\n",
    "co2 = 201"
   ]
  },
  {
   "cell_type": "code",
   "execution_count": 12,
   "id": "6163cb22-ee50-47f4-95f4-067fb196993e",
   "metadata": {},
   "outputs": [],
   "source": [
    "t_data = np.array([\n",
    "    1,   # production of natural gas\n",
    "    1,   # production of carbon fibre\n",
    "    1,   # production of bike\n",
    "    237, # input of natural gas\n",
    "    2.5, # input of carbon fibre\n",
    "])\n",
    "t_indices = np.array([\n",
    "    (natural_gas, natural_gas), # production of natural gas\n",
    "    (carbon_fibre, carbon_fibre), # production of carbon fibre\n",
    "    (bike, bike), # production of bike\n",
    "    (natural_gas, carbon_fibre), # input of natural gas\n",
    "    (carbon_fibre, bike), # input of carbon fibre\n",
    "    ], \n",
    "    dtype=bwp.INDICES_DTYPE\n",
    ")\n",
    "t_flip = np.array([False, False, False, True, True]) # Numerical sign of the inputs needs to be flipped negative"
   ]
  },
  {
   "cell_type": "code",
   "execution_count": 13,
   "id": "ab4e3d22-87a7-434e-bdc7-a12a8d8c90c5",
   "metadata": {},
   "outputs": [],
   "source": [
    "b_data = np.array([26.6])\n",
    "b_indices = np.array([\n",
    "    (co2, carbon_fibre), # emission of CO2\n",
    "    ], \n",
    "    dtype=bwp.INDICES_DTYPE\n",
    ")"
   ]
  },
  {
   "cell_type": "code",
   "execution_count": 14,
   "id": "ca7ee904-86c5-4ba2-9379-4424ba40d47d",
   "metadata": {},
   "outputs": [],
   "source": [
    "c_data = np.array([1])\n",
    "c_indices = np.array([\n",
    "    (co2, co2), # CF of CO2\n",
    "    ], \n",
    "    dtype=bwp.INDICES_DTYPE\n",
    ")"
   ]
  },
  {
   "cell_type": "code",
   "execution_count": 15,
   "id": "d89c10b2-4b0c-4682-bf81-e4a48d4b4306",
   "metadata": {},
   "outputs": [],
   "source": [
    "t_uncertainty = np.array([\n",
    "        (sa.NoUncertainty.id, 1, np.NaN, np.NaN, np.NaN, np.NaN, False),\n",
    "        (sa.NoUncertainty.id, 1, np.NaN, np.NaN, np.NaN, np.NaN, False),    \n",
    "        (sa.NoUncertainty.id, 1, np.NaN, np.NaN, np.NaN, np.NaN, False),    \n",
    "        (sa.TriangularUncertainty.id, 237, np.NaN, np.NaN, 200, 300, False), # triangular uncertainty from 200 to 300  \n",
    "        (sa.TriangularUncertainty.id, 2.5, np.NaN, np.NaN, 2, 3, False), # triangular uncertainty from 2 to 3\n",
    "    ], \n",
    "    dtype=bwp.UNCERTAINTY_DTYPE\n",
    ")\n",
    "b_uncertainty = np.array([\n",
    "        (sa.NormalUncertainty.id, 26.6, 1.5, np.NaN, np.NaN, np.NaN, False), # normal uncertainty with std. dev. of 1.5\n",
    "    ], \n",
    "    dtype=bwp.UNCERTAINTY_DTYPE\n",
    ")"
   ]
  },
  {
   "cell_type": "code",
   "execution_count": 16,
   "id": "91f58585-6ebe-4013-9427-c9b81108c468",
   "metadata": {},
   "outputs": [],
   "source": [
    "dp_stochastic = bwp.create_datapackage()"
   ]
  },
  {
   "cell_type": "code",
   "execution_count": 17,
   "id": "f09e0683-043e-41db-93a1-31b61f51dce9",
   "metadata": {},
   "outputs": [],
   "source": [
    "dp_stochastic.add_persistent_vector(\n",
    "    matrix='technosphere_matrix',\n",
    "    indices_array=t_indices,\n",
    "    data_array=t_data,\n",
    "    flip_array=t_flip,\n",
    "    distributions_array=t_uncertainty,\n",
    ")\n",
    "dp_stochastic.add_persistent_vector(\n",
    "    matrix='biosphere_matrix',\n",
    "    indices_array=b_indices,\n",
    "    data_array=b_data,\n",
    "    distributions_array=b_uncertainty,\n",
    ")\n",
    "dp_stochastic.add_persistent_vector(\n",
    "    matrix='characterization_matrix',\n",
    "    indices_array=c_indices,\n",
    "    data_array=c_data,\n",
    ")"
   ]
  },
  {
   "cell_type": "code",
   "execution_count": 18,
   "id": "0585cfb1-d3c0-4b62-a217-77395a793a90",
   "metadata": {},
   "outputs": [],
   "source": [
    "hybrid_bike = 601"
   ]
  },
  {
   "cell_type": "code",
   "execution_count": 19,
   "id": "830d87c1-8590-4e46-b35a-d58541a0d897",
   "metadata": {},
   "outputs": [],
   "source": [
    "dp_scenarios = bwp.create_datapackage(sequential=True)\n",
    "dp_scenarios.add_persistent_array(\n",
    "    matrix='technosphere_matrix',\n",
    "    indices_array=np.array([\n",
    "        (hybrid_bike, hybrid_bike),\n",
    "        (steel_bike, hybrid_bike),\n",
    "        (bike, hybrid_bike),\n",
    "    ], dtype=bwp.INDICES_DTYPE),\n",
    "    data_array=np.array([\n",
    "        (1, 1, 1),\n",
    "        (0.25, 0.5, 0.75),\n",
    "        (0.75, 0.5, 0.25),\n",
    "    ]),\n",
    "    flip_array=np.array([False, True, True]),\n",
    "    name='bike materials scenario'\n",
    ")"
   ]
  },
  {
   "cell_type": "code",
   "execution_count": 20,
   "id": "7655b5fc-1c96-44cc-8db9-3338c85d4244",
   "metadata": {},
   "outputs": [],
   "source": [
    "lca = bc.LCA(\n",
    "    demand={hybrid_bike: 1},\n",
    "    data_objs=[dp_steel_bike, dp_stochastic, dp_scenarios],\n",
    "    use_distributions=True,\n",
    "    use_arrays=True,\n",
    ")\n",
    "lca.lci()\n",
    "lca.lcia()\n",
    "lca.keep_first_iteration()"
   ]
  },
  {
   "cell_type": "code",
   "execution_count": 21,
   "id": "037fbedc-a675-441b-9e08-a49bb1a5933a",
   "metadata": {},
   "outputs": [
    {
     "name": "stdout",
     "output_type": "stream",
     "text": [
      "25% steel: 49.39\n",
      "50% steel: 37.35\n",
      "75% steel: 14.93\n"
     ]
    }
   ],
   "source": [
    "for label in (\"25% steel\", \"50% steel\", \"75% steel\"):\n",
    "    next(lca)\n",
    "    print(f\"{label}: {lca.score:.4g}\")"
   ]
  }
 ],
 "metadata": {
  "kernelspec": {
   "display_name": "Python [conda env:bw25update]",
   "language": "python",
   "name": "conda-env-bw25update-py"
  },
  "language_info": {
   "codemirror_mode": {
    "name": "ipython",
    "version": 3
   },
   "file_extension": ".py",
   "mimetype": "text/x-python",
   "name": "python",
   "nbconvert_exporter": "python",
   "pygments_lexer": "ipython3",
   "version": "3.12.4"
  }
 },
 "nbformat": 4,
 "nbformat_minor": 5
}
