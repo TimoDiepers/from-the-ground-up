{
 "cells": [
  {
   "cell_type": "code",
   "execution_count": null,
   "id": "97ed6cd4-b20d-4236-8985-d5580be99b18",
   "metadata": {},
   "outputs": [],
   "source": [
    "import bw2calc as bc\n",
    "import bw_processing as bwp\n",
    "import matrix_utils as mu\n",
    "import numpy as np\n",
    "import stats_arrays as sa\n",
    "import seaborn as sb"
   ]
  },
  {
   "cell_type": "code",
   "execution_count": null,
   "id": "7a30f9eb-8914-4273-925f-3d78893cd7bc",
   "metadata": {},
   "outputs": [],
   "source": [
    "coal = 900\n",
    "steel = 901\n",
    "iron_mining = 902\n",
    "steel_bike = 903\n",
    "iron_ore = 1000"
   ]
  },
  {
   "cell_type": "code",
   "execution_count": null,
   "id": "23951444-84a2-40b5-9687-e3cbd3053dc2",
   "metadata": {},
   "outputs": [],
   "source": [
    "t_data = np.array([\n",
    "    1,\n",
    "    1,\n",
    "    1,\n",
    "    1,\n",
    "    1.1,\n",
    "    0.2,\n",
    "    8,\n",
    "    0.001,\n",
    "    0.001,\n",
    "    0.005,\n",
    "])\n",
    "t_indices = np.array(\n",
    "    [\n",
    "        (coal, coal),\n",
    "        (steel, steel),\n",
    "        (iron_mining, iron_mining),\n",
    "        (steel_bike, steel_bike),\n",
    "        (iron_mining, steel),\n",
    "        (coal, steel),\n",
    "        (steel, steel_bike),\n",
    "        (steel_bike, iron_mining),\n",
    "        (steel_bike, coal),\n",
    "        (steel_bike, steel),\n",
    "    ], \n",
    "    dtype=bwp.INDICES_DTYPE\n",
    ")\n",
    "t_uncertainty = np.array([\n",
    "        (sa.NoUncertainty.id, 1, np.NaN, np.NaN, np.NaN, np.NaN, False),\n",
    "        (sa.NoUncertainty.id, 1, np.NaN, np.NaN, np.NaN, np.NaN, False),\n",
    "        (sa.NoUncertainty.id, 1, np.NaN, np.NaN, np.NaN, np.NaN, False),\n",
    "        (sa.NoUncertainty.id, 1, np.NaN, np.NaN, np.NaN, np.NaN, False),\n",
    "        (sa.TriangularUncertainty.id, 1.1, np.NaN, np.NaN, 1, 1.25, False), \n",
    "        (sa.TriangularUncertainty.id, 0.2, np.NaN, np.NaN, 0.1, 0.5, False),\n",
    "        (sa.TriangularUncertainty.id, 8, np.NaN, np.NaN, 4, 15, False),\n",
    "        (sa.NoUncertainty.id, 0.001, np.NaN, np.NaN, np.NaN, np.NaN, False),\n",
    "        (sa.NoUncertainty.id, 0.001, np.NaN, np.NaN, np.NaN, np.NaN, False),\n",
    "        (sa.NoUncertainty.id, 0.005, np.NaN, np.NaN, np.NaN, np.NaN, False),\n",
    "    ], \n",
    "    dtype=bwp.UNCERTAINTY_DTYPE\n",
    ")\n",
    "t_flip = np.array([False, False, False, False, True, True, True, True, True, True])"
   ]
  },
  {
   "cell_type": "code",
   "execution_count": null,
   "id": "15eaabd8-0b91-4973-a7d6-cb6b5ed9f54e",
   "metadata": {},
   "outputs": [],
   "source": [
    "b_data = np.array([1.25])\n",
    "b_uncertainty = np.array([\n",
    "        (sa.TriangularUncertainty.id, 1.25, np.NaN, np.NaN, 1, 1.75, False), \n",
    "    ], \n",
    "    dtype=bwp.UNCERTAINTY_DTYPE\n",
    ")\n",
    "b_indices = np.array([\n",
    "    (iron_ore, iron_mining),\n",
    "    ], \n",
    "    dtype=bwp.INDICES_DTYPE\n",
    ")"
   ]
  },
  {
   "cell_type": "code",
   "execution_count": null,
   "id": "4e6efb7c-cac3-4536-b93e-da76fa2a49a3",
   "metadata": {},
   "outputs": [],
   "source": [
    "c_data = np.array([3.141])\n",
    "c_uncertainty = np.array([\n",
    "        (sa.NormalUncertainty.id, 3.141, 0.5926535, np.NaN, np.NaN, np.NaN, False), \n",
    "    ], \n",
    "    dtype=bwp.UNCERTAINTY_DTYPE\n",
    ")\n",
    "c_indices = np.array([\n",
    "    (iron_ore, iron_ore),\n",
    "    ], \n",
    "    dtype=bwp.INDICES_DTYPE\n",
    ")"
   ]
  },
  {
   "cell_type": "markdown",
   "id": "53f00163-c997-4555-a563-8a767e75f2fa",
   "metadata": {},
   "source": [
    "We can now create our datapackage, and add the data for all three matrices to it:"
   ]
  },
  {
   "cell_type": "code",
   "execution_count": null,
   "id": "a7fc1602-4fad-45c8-a84f-f47943bfe739",
   "metadata": {},
   "outputs": [],
   "source": [
    "dp_static = bwp.create_datapackage()"
   ]
  },
  {
   "cell_type": "code",
   "execution_count": null,
   "id": "46e9a1b2-6ec3-4627-924a-646a4e8e64a1",
   "metadata": {},
   "outputs": [],
   "source": [
    "dp_static.add_persistent_vector(\n",
    "    matrix='technosphere_matrix',\n",
    "    indices_array=t_indices,\n",
    "    data_array=t_data,\n",
    "    flip_array=t_flip,\n",
    "    distributions_array=t_uncertainty,\n",
    ")\n",
    "dp_static.add_persistent_vector(\n",
    "    matrix='biosphere_matrix',\n",
    "    indices_array=b_indices,\n",
    "    data_array=b_data,\n",
    "    distributions_array=b_uncertainty,\n",
    ")\n",
    "dp_static.add_persistent_vector(\n",
    "    matrix='characterization_matrix',\n",
    "    indices_array=c_indices,\n",
    "    data_array=c_data,\n",
    "    distributions_array=c_uncertainty,\n",
    ")"
   ]
  },
  {
   "cell_type": "code",
   "execution_count": null,
   "id": "4de9b4ab-ce03-4ab3-9e56-42420875356c",
   "metadata": {},
   "outputs": [],
   "source": [
    "lca = bc.LCA(\n",
    "    demand={steel_bike: 1},\n",
    "    data_objs=[dp_static],\n",
    "    use_distributions=True,\n",
    ")\n",
    "lca.lci()\n",
    "lca.lcia()"
   ]
  },
  {
   "cell_type": "code",
   "execution_count": null,
   "id": "9da216fe-c551-4b7f-bbc0-76db86a1dbe5",
   "metadata": {},
   "outputs": [],
   "source": [
    "mc_results = [lca.score for _ in zip(range(50), lca)]\n",
    "sb.displot(np.array(mc_results))"
   ]
  },
  {
   "cell_type": "code",
   "execution_count": null,
   "id": "5ee726dd-74b7-4cdc-ba4d-d8321709fe11",
   "metadata": {},
   "outputs": [],
   "source": []
  }
 ],
 "metadata": {
  "kernelspec": {
   "display_name": "Python [conda env:bw25update]",
   "language": "python",
   "name": "conda-env-bw25update-py"
  },
  "language_info": {
   "codemirror_mode": {
    "name": "ipython",
    "version": 3
   },
   "file_extension": ".py",
   "mimetype": "text/x-python",
   "name": "python",
   "nbconvert_exporter": "python",
   "pygments_lexer": "ipython3",
   "version": "3.12.4"
  }
 },
 "nbformat": 4,
 "nbformat_minor": 5
}
