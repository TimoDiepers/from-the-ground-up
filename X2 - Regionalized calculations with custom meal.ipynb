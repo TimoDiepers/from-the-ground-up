{
 "cells": [
  {
   "cell_type": "code",
   "execution_count": null,
   "id": "90ecd054-497a-4b92-8d75-9bda59d1edf1",
   "metadata": {},
   "outputs": [],
   "source": [
    "import bw2data as bd\n",
    "import bw2regional as bwr\n",
    "from pathlib import Path"
   ]
  },
  {
   "cell_type": "code",
   "execution_count": null,
   "id": "67bd9eec-a961-4b05-9adc-5d25f78bac1d",
   "metadata": {},
   "outputs": [],
   "source": [
    "PROJECT_NAME = \"Spain case study\""
   ]
  },
  {
   "cell_type": "code",
   "execution_count": null,
   "id": "89f9c1b0-38e1-490a-8d02-5fd89303cf8f",
   "metadata": {},
   "outputs": [],
   "source": [
    "RESET = True"
   ]
  },
  {
   "cell_type": "code",
   "execution_count": null,
   "id": "60f26996-8a34-42f0-852d-7583c03e19ed",
   "metadata": {},
   "outputs": [],
   "source": [
    "if PROJECT_NAME in bd.projects and RESET:\n",
    "    bd.projects.delete_project(PROJECT_NAME, True) "
   ]
  },
  {
   "cell_type": "code",
   "execution_count": null,
   "id": "46049ab4-8536-41a9-947b-3827bca889a7",
   "metadata": {},
   "outputs": [],
   "source": [
    "bd.projects.set_current(PROJECT_NAME)"
   ]
  },
  {
   "cell_type": "code",
   "execution_count": null,
   "id": "809abfae-58ee-4957-a389-daa54857b6e7",
   "metadata": {},
   "outputs": [],
   "source": [
    "data_dir = Path.cwd().absolute() / \"data\"\n",
    "assert data_dir.is_dir()"
   ]
  },
  {
   "cell_type": "markdown",
   "id": "96b266e0-59c0-4391-98e5-d7d5dee539be",
   "metadata": {},
   "source": [
    "Tell `bw2regional` about our maps."
   ]
  },
  {
   "cell_type": "markdown",
   "id": "04c08b5d-a22f-41bc-b7e9-c886ff77b083",
   "metadata": {},
   "source": [
    "Data from Natural Earth Data. Needed to create another column named `city_id` with a string data type."
   ]
  },
  {
   "cell_type": "code",
   "execution_count": null,
   "id": "16b57324-cc3f-4358-a564-bc85de7f3dc9",
   "metadata": {},
   "outputs": [],
   "source": [
    "bwr.geocollections['cities'] = {\n",
    "    'filepath': str(data_dir / 'cities.gpkg'),\n",
    "    'field': 'city_id',\n",
    "}"
   ]
  },
  {
   "cell_type": "code",
   "execution_count": null,
   "id": "be64ffbb-da90-461b-97ac-b15a2f7b1534",
   "metadata": {},
   "outputs": [],
   "source": [
    "bwr.geocollections['regions'] = {\n",
    "    'filepath': str(data_dir / 'regions.gpkg'),\n",
    "    'field': 'name',\n",
    "}"
   ]
  },
  {
   "cell_type": "code",
   "execution_count": null,
   "id": "8159b9e8-00bf-4f23-b8bb-d1c88edb7dbc",
   "metadata": {},
   "outputs": [],
   "source": [
    "bwr.geocollections['countries'] = {\n",
    "    'filepath': str(data_dir / 'countries.gpkg'),\n",
    "    'field': 'NAME',\n",
    "}"
   ]
  },
  {
   "cell_type": "code",
   "execution_count": null,
   "id": "193da67a-01cc-4885-99a5-311e84ea5336",
   "metadata": {},
   "outputs": [],
   "source": [
    "bwr.geocollections['popdensity'] = {'filepath': str(data_dir / 'gpw_v4_population_density.tif')}"
   ]
  },
  {
   "cell_type": "markdown",
   "id": "f0ea19c6-1ebd-413c-b277-d3a57539fe1b",
   "metadata": {},
   "source": [
    "CF map from [WRI](https://www.wri.org/data/aqueduct-water-stress-projections-data)"
   ]
  },
  {
   "cell_type": "code",
   "execution_count": null,
   "id": "907897d0-4e3a-4e76-8283-9837952ec7ea",
   "metadata": {},
   "outputs": [],
   "source": [
    "bwr.geocollections['water-stress'] = {\n",
    "    'filepath': str(data_dir / 'spain_water_stress.gpkg'),\n",
    "    'field': 'BasinID',\n",
    "}"
   ]
  },
  {
   "cell_type": "markdown",
   "id": "3285ce8f-3c93-445f-87e0-2ef44385b90b",
   "metadata": {},
   "source": [
    "Data from [Estimation of spatial distribution of irrigated crop areas in Europe for large-scale modelling applications](https://www.sciencedirect.com/science/article/pii/S0378377422000749?via%3Dihub#sec0060), via [Agri4Cast](https://agri4cast.jrc.ec.europa.eu/DataPortal/Index.aspx?o=).\n",
    "\n",
    "Data also [available here](https://files.brightway.dev/europe_irrigated.gpkg).\n",
    "\n",
    "GDAL commands to extract and process the rasters:\n",
    "\n",
    "```bash\n",
    "gdal_rasterize -a IR_citrus -init -999 -a_nodata -999 -ts 400 400 -of GTIFF irrigation.gpkg citrus.p.tiff\n",
    "gdal_rasterize -a IR_potatoe -init -999 -a_nodata -999 -ts 400 400 -of GTIFF irrigation.gpkg potatoe.p.tiff\n",
    "gdal_rasterize -a IR_rice -init -999 -a_nodata -999 -ts 400 400 -of GTIFF irrigation.gpkg rice.p.tiff\n",
    "gdal_rasterize -a IR_cereals -init -999 -a_nodata -999 -ts 400 400 -of GTIFF irrigation.gpkg cereals.p.tiff\n",
    "\n",
    "gdalwarp -t_srs EPSG:4326 rice.p.tiff rice.tiff\n",
    "gdalwarp -t_srs EPSG:4326 potatoe.p.tiff potatoe.tiff\n",
    "gdalwarp -t_srs EPSG:4326 cereals.p.tiff cereals.tiff\n",
    "gdalwarp -t_srs EPSG:4326 citrus.p.tiff citrus.tiff\n",
    "```"
   ]
  },
  {
   "cell_type": "code",
   "execution_count": null,
   "id": "10001d08-f72d-4b48-8d9e-7d64a03f946e",
   "metadata": {},
   "outputs": [],
   "source": [
    "CROPS = ['cereals', 'citrus', 'rice', 'potatoe', 'sunflowers']"
   ]
  },
  {
   "cell_type": "code",
   "execution_count": null,
   "id": "8c696bb2-133e-4b9e-85aa-d043360165c4",
   "metadata": {},
   "outputs": [],
   "source": [
    "for crop in CROPS:\n",
    "    bwr.geocollections[crop] = {'filepath': str(data_dir / f'{crop}.tiff'), 'nodata': -999}"
   ]
  },
  {
   "cell_type": "code",
   "execution_count": null,
   "id": "caec0f1d-9609-42e4-84dd-1eaaae07f7a6",
   "metadata": {},
   "outputs": [],
   "source": [
    "bio = bd.Database(\"biosphere\")\n",
    "bio.register()"
   ]
  },
  {
   "cell_type": "code",
   "execution_count": null,
   "id": "a78982a6-4eeb-4671-9cae-d6fd0dc92565",
   "metadata": {
    "tags": []
   },
   "outputs": [],
   "source": [
    "h2o = bio.new_node(\n",
    "    code=\"water\",\n",
    "    name=\"water\",\n",
    "    type=\"emission\",\n",
    ")\n",
    "h2o.save()"
   ]
  },
  {
   "cell_type": "code",
   "execution_count": null,
   "id": "22dbfaf7-4415-4dd1-9297-59ae28c98634",
   "metadata": {},
   "outputs": [],
   "source": [
    "co2 = bio.new_node(\n",
    "    code=\"co2\",\n",
    "    name=\"co2\",\n",
    "    type=\"emission\",\n",
    ")\n",
    "co2.save()"
   ]
  },
  {
   "cell_type": "code",
   "execution_count": null,
   "id": "e5b03078-5562-4826-8b9a-80c8885515b2",
   "metadata": {},
   "outputs": [],
   "source": [
    "ch4 = bio.new_node(\n",
    "    code=\"ch4\",\n",
    "    name=\"ch4\",\n",
    "    type=\"emission\",\n",
    ")\n",
    "ch4.save()"
   ]
  },
  {
   "cell_type": "code",
   "execution_count": null,
   "id": "028a3621-d700-4a7e-8f34-6a7a4cb59ccb",
   "metadata": {},
   "outputs": [],
   "source": [
    "h2o = bd.get_node(name=\"water\")"
   ]
  },
  {
   "cell_type": "markdown",
   "id": "4971630e-9ec1-4691-bf08-a95da9e00739",
   "metadata": {},
   "source": [
    "# Insert your own meal here"
   ]
  },
  {
   "cell_type": "code",
   "execution_count": null,
   "id": "1cb17f8e-fb49-46cc-9cde-6ed294b816e5",
   "metadata": {},
   "outputs": [],
   "source": [
    "food = bd.Database(\"food\")\n",
    "food.register()\n",
    "\n",
    "lemon = food.new_node(\n",
    "    code=\"lemon\",\n",
    "    name=\"lemon\",\n",
    "    location=('regions', 'Granada')\n",
    ")\n",
    "lemon.save()\n",
    "lemon.new_edge(\n",
    "    input=h2o,\n",
    "    amount=5,\n",
    "    type=\"biosphere\",\n",
    ").save()\n",
    "\n",
    "mushroom = food.new_node(\n",
    "    code=\"mushroom\",\n",
    "    name=\"mushroom\",\n",
    "    location=('countries', 'Portugal')\n",
    ")\n",
    "mushroom.save()\n",
    "mushroom.new_edge(\n",
    "    input=h2o,\n",
    "    amount=0.5,\n",
    "    type=\"biosphere\",\n",
    ").save()\n",
    "\n",
    "cheese = food.new_node(\n",
    "    code=\"cheese\",\n",
    "    name=\"cheese\",\n",
    "    location=('countries', 'Spain')\n",
    ")\n",
    "cheese.save()\n",
    "cheese.new_edge(\n",
    "    input=h2o,\n",
    "    amount=25,\n",
    "    type=\"biosphere\",\n",
    ").save()\n",
    "\n",
    "rice = food.new_node(\n",
    "    code=\"rice\",\n",
    "    name=\"rice\",\n",
    "    location=('regions', 'Valencia')\n",
    ")\n",
    "rice.save()\n",
    "rice.new_edge(\n",
    "    input=h2o,\n",
    "    amount=10,\n",
    "    type=\"biosphere\",\n",
    ").save()\n",
    "\n",
    "meal = food.new_node(\n",
    "    code=\"meal\",\n",
    "    name=\"meal\",\n",
    "    location=('cities', '14')\n",
    ")\n",
    "meal.save()\n",
    "meal.new_edge(\n",
    "    input=h2o,\n",
    "    amount=0.5,\n",
    "    type=\"biosphere\",\n",
    ").save()\n",
    "meal.new_edge(\n",
    "    input=lemon,\n",
    "    amount=0.25,\n",
    "    type=\"technosphere\",\n",
    ").save()\n",
    "meal.new_edge(\n",
    "    input=rice,\n",
    "    amount=1,\n",
    "    type=\"technosphere\",\n",
    ").save()\n",
    "meal.new_edge(\n",
    "    input=mushroom,\n",
    "    amount=0.5,\n",
    "    type=\"technosphere\",\n",
    ").save()\n",
    "\n",
    "meal.new_edge(\n",
    "    input=cheese,\n",
    "    amount=0.1,\n",
    "    type=\"technosphere\",\n",
    ").save()"
   ]
  },
  {
   "cell_type": "code",
   "execution_count": null,
   "id": "c36fabf3-7c13-4a63-9539-00cd1a4be093",
   "metadata": {},
   "outputs": [],
   "source": [
    "bio.set_geocollections()\n",
    "food.set_geocollections()"
   ]
  },
  {
   "cell_type": "code",
   "execution_count": null,
   "id": "3d99eaa6-19cc-4154-a1e8-8c9064ed78f0",
   "metadata": {},
   "outputs": [],
   "source": [
    "import fiona\n",
    "from shapely.geometry import shape\n",
    "from collections import defaultdict\n",
    "import numpy as np"
   ]
  },
  {
   "cell_type": "code",
   "execution_count": null,
   "id": "1a694982-7406-4e2c-a665-697ea78898e6",
   "metadata": {},
   "outputs": [],
   "source": [
    "water_stress = bd.Method((\"water stress\",))\n",
    "water_stress.register()"
   ]
  },
  {
   "cell_type": "code",
   "execution_count": null,
   "id": "dfd88c0c-1858-46d2-9c29-5926cef950bc",
   "metadata": {},
   "outputs": [],
   "source": [
    "bwr.import_regionalized_cfs(\n",
    "    'water-stress',\n",
    "    (\"water stress\",),\n",
    "    {\"ws2038cr\": [h2o.key]},\n",
    "    nan_value=-1,\n",
    ")"
   ]
  },
  {
   "cell_type": "code",
   "execution_count": null,
   "id": "3a1dd3f8-35be-47ab-a9c4-f8534cf5c52d",
   "metadata": {},
   "outputs": [],
   "source": [
    "for place in (\"cities\", \"regions\", \"countries\"):\n",
    "    if f'{place}-water-stress' not in bwr.geocollections:\n",
    "        bwr.remote.calculate_intersection(place, 'water-stress')\n",
    "        bwr.remote.intersection_as_new_geocollection(place, 'water-stress', f'{place}-water-stress')"
   ]
  },
  {
   "cell_type": "code",
   "execution_count": null,
   "id": "73c6682b-dc2c-4605-93b8-bb57fe776513",
   "metadata": {},
   "outputs": [],
   "source": [
    "for crop in ('cereals', 'citrus', 'rice', 'potatoe', 'popdensity'):\n",
    "    if f'cities-water-stress - {crop}' not in bwr.extension_tables:\n",
    "        bwr.raster_as_extension_table('cities-water-stress', crop)\n",
    "    if f'regions-water-stress - {crop}' not in bwr.extension_tables:\n",
    "        bwr.raster_as_extension_table('regions-water-stress', crop)\n",
    "    if f'countries-water-stress - {crop}' not in bwr.extension_tables:\n",
    "        bwr.raster_as_extension_table('countries-water-stress', crop)        "
   ]
  },
  {
   "cell_type": "code",
   "execution_count": null,
   "id": "2a4534bf-5c22-4e5f-b5b9-aa4678895d17",
   "metadata": {},
   "outputs": [],
   "source": [
    "bwr.calculate_needed_intersections({meal: 1}, (\"water stress\",))\n",
    "\n",
    "for xt in bwr.extension_tables:\n",
    "    bwr.calculate_needed_intersections({meal: 1}, (\"water stress\",), xt)"
   ]
  },
  {
   "cell_type": "code",
   "execution_count": null,
   "id": "a128e6c2-8041-416d-a858-c7257f488aae",
   "metadata": {},
   "outputs": [],
   "source": [
    "bwr.extension_tables"
   ]
  },
  {
   "cell_type": "code",
   "execution_count": null,
   "id": "919f4af9-3d5b-472a-8747-683b10fbb95f",
   "metadata": {},
   "outputs": [],
   "source": [
    "lca_configuration = [\n",
    "    # {\n",
    "    #     'xts': ['cities-water-stress - cereals', 'countries-water-stress - cereals', 'regions-water-stress - cereals'],\n",
    "    #     'nodes': [],\n",
    "    # },\n",
    "    {\n",
    "        'xts': ['cities-water-stress - rice', 'countries-water-stress - rice', 'regions-water-stress - rice'],\n",
    "        'nodes': [bd.get_node(name='rice').id],\n",
    "    },\n",
    "    {\n",
    "        'xts': ['cities-water-stress - citrus', 'countries-water-stress - citrus', 'regions-water-stress - citrus'],\n",
    "        'nodes': [bd.get_node(name='lemon').id],\n",
    "    },\n",
    "    # {\n",
    "    #     'xts': ['cities-water-stress - potatoe', 'countries-water-stress - potatoe', 'regions-water-stress - potatoe'],\n",
    "    #     'nodes': [],\n",
    "    # },\n",
    "    {\n",
    "        'xts': ['cities-water-stress - popdensity', 'countries-water-stress - popdensity', 'regions-water-stress - popdensity'],\n",
    "        'nodes': [bd.get_node(name='mushroom').id, bd.get_node(name='meal').id, bd.get_node(name='cheese').id],\n",
    "    },\n",
    "]"
   ]
  },
  {
   "cell_type": "code",
   "execution_count": null,
   "id": "91f64660-f0ec-4c52-86b4-96d5b4380fd7",
   "metadata": {},
   "outputs": [],
   "source": [
    "characterized_inventory = None\n",
    "\n",
    "for dct in lca_configuration:\n",
    "    for xt in dct['xts']:\n",
    "        lca = bwr.ExtensionTablesLCA(\n",
    "            demand={meal: 1},\n",
    "            method=(\"water stress\",),\n",
    "            xtable=xt,\n",
    "            limitations={'activities': dct['nodes'], 'activities mode': 'include'},\n",
    "        )\n",
    "        lca.lci()\n",
    "        lca.lcia()\n",
    "        if characterized_inventory is None:\n",
    "            characterized_inventory = lca.characterized_inventory\n",
    "        else:\n",
    "            characterized_inventory += lca.characterized_inventory"
   ]
  },
  {
   "cell_type": "code",
   "execution_count": null,
   "id": "4324d9db-8317-4f45-ba6a-0f018b310a57",
   "metadata": {},
   "outputs": [],
   "source": [
    "lca.geodataframe_xtable_spatial_scale().explore(column='score_rel')"
   ]
  }
 ],
 "metadata": {
  "kernelspec": {
   "display_name": "Python [conda env:regional]",
   "language": "python",
   "name": "conda-env-regional-py"
  },
  "language_info": {
   "codemirror_mode": {
    "name": "ipython",
    "version": 3
   },
   "file_extension": ".py",
   "mimetype": "text/x-python",
   "name": "python",
   "nbconvert_exporter": "python",
   "pygments_lexer": "ipython3",
   "version": "3.12.1"
  }
 },
 "nbformat": 4,
 "nbformat_minor": 5
}
