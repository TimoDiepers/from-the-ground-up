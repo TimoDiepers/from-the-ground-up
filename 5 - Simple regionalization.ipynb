{
 "cells": [
  {
   "cell_type": "markdown",
   "id": "5efaaaad-8201-4804-ab86-ac520e19574e",
   "metadata": {},
   "source": [
    "# Creating the basic project data"
   ]
  },
  {
   "cell_type": "code",
   "execution_count": null,
   "id": "e6800d14-3cf2-48e6-a246-464c89f8e160",
   "metadata": {},
   "outputs": [],
   "source": [
    "import bw2data as bd\n",
    "import bw2io as bi\n",
    "import bw2regional as bwr"
   ]
  },
  {
   "cell_type": "code",
   "execution_count": null,
   "id": "85ed9b50-e96e-43ec-894b-fb30b5949a44",
   "metadata": {},
   "outputs": [],
   "source": [
    "bi.install_project(\"regionalization-example\", overwrite_existing=True)"
   ]
  },
  {
   "cell_type": "code",
   "execution_count": null,
   "id": "e1257166-abe3-49d7-acf1-56464f470cce",
   "metadata": {},
   "outputs": [],
   "source": [
    "PROJECT_NAME = \"Spain case study\""
   ]
  },
  {
   "cell_type": "code",
   "execution_count": null,
   "id": "41c64108-d0a5-44cc-83b9-344d441fa4df",
   "metadata": {},
   "outputs": [],
   "source": [
    "bd.projects.set_current(PROJECT_NAME)"
   ]
  },
  {
   "cell_type": "markdown",
   "id": "34623e28-9695-4136-a345-89508187c19c",
   "metadata": {},
   "source": [
    "# Create the inventory"
   ]
  },
  {
   "cell_type": "code",
   "execution_count": null,
   "id": "e28812bf-5b34-458a-9cb6-f4629b0c7ab0",
   "metadata": {},
   "outputs": [],
   "source": [
    "del bd.databases['biosphere']\n",
    "del bd.databases['food']"
   ]
  },
  {
   "cell_type": "code",
   "execution_count": null,
   "id": "caec0f1d-9609-42e4-84dd-1eaaae07f7a6",
   "metadata": {},
   "outputs": [],
   "source": [
    "bio = bd.Database(\"biosphere\")\n",
    "bio.register()"
   ]
  },
  {
   "cell_type": "code",
   "execution_count": null,
   "id": "a78982a6-4eeb-4671-9cae-d6fd0dc92565",
   "metadata": {
    "tags": []
   },
   "outputs": [],
   "source": [
    "h2o = bio.new_node(\n",
    "    code=\"water\",\n",
    "    name=\"water\",\n",
    "    type=\"emission\",\n",
    ")\n",
    "h2o.save()"
   ]
  },
  {
   "cell_type": "code",
   "execution_count": null,
   "id": "22dbfaf7-4415-4dd1-9297-59ae28c98634",
   "metadata": {},
   "outputs": [],
   "source": [
    "co2 = bio.new_node(\n",
    "    code=\"co2\",\n",
    "    name=\"co2\",\n",
    "    type=\"emission\",\n",
    ")\n",
    "co2.save()"
   ]
  },
  {
   "cell_type": "code",
   "execution_count": null,
   "id": "e5b03078-5562-4826-8b9a-80c8885515b2",
   "metadata": {},
   "outputs": [],
   "source": [
    "ch4 = bio.new_node(\n",
    "    code=\"ch4\",\n",
    "    name=\"ch4\",\n",
    "    type=\"emission\",\n",
    ")\n",
    "ch4.save()"
   ]
  },
  {
   "cell_type": "code",
   "execution_count": null,
   "id": "028a3621-d700-4a7e-8f34-6a7a4cb59ccb",
   "metadata": {},
   "outputs": [],
   "source": [
    "h2o = bd.get_node(name=\"water\")"
   ]
  },
  {
   "cell_type": "code",
   "execution_count": null,
   "id": "1cb17f8e-fb49-46cc-9cde-6ed294b816e5",
   "metadata": {},
   "outputs": [],
   "source": [
    "food = bd.Database(\"food\")\n",
    "food.register()"
   ]
  },
  {
   "cell_type": "code",
   "execution_count": null,
   "id": "4ae2eee9-2a50-41e0-a463-243bfc5b19da",
   "metadata": {},
   "outputs": [],
   "source": [
    "lemon = food.new_node(\n",
    "    code=\"lemon\",\n",
    "    name=\"lemon\",\n",
    "    location=('regions', 'Granada')\n",
    ")\n",
    "lemon.save()\n",
    "lemon.new_edge(\n",
    "    input=h2o,\n",
    "    amount=5,\n",
    "    type=\"biosphere\",\n",
    ").save()"
   ]
  },
  {
   "cell_type": "code",
   "execution_count": null,
   "id": "c717ba4c-2a1f-4418-b784-633503155820",
   "metadata": {},
   "outputs": [],
   "source": [
    "mushroom = food.new_node(\n",
    "    code=\"mushroom\",\n",
    "    name=\"mushroom\",\n",
    "    location=('countries', 'Portugal')\n",
    ")\n",
    "mushroom.save()\n",
    "mushroom.new_edge(\n",
    "    input=h2o,\n",
    "    amount=0.5,\n",
    "    type=\"biosphere\",\n",
    ").save()"
   ]
  },
  {
   "cell_type": "code",
   "execution_count": null,
   "id": "fa26cdd9-c877-4867-b2b2-46715ffc05c1",
   "metadata": {},
   "outputs": [],
   "source": [
    "cheese = food.new_node(\n",
    "    code=\"cheese\",\n",
    "    name=\"cheese\",\n",
    "    location=('countries', 'Spain')\n",
    ")\n",
    "cheese.save()\n",
    "cheese.new_edge(\n",
    "    input=h2o,\n",
    "    amount=25,\n",
    "    type=\"biosphere\",\n",
    ").save()"
   ]
  },
  {
   "cell_type": "code",
   "execution_count": null,
   "id": "f821178a-5d27-460f-b3ed-19cb0cb1acc8",
   "metadata": {},
   "outputs": [],
   "source": [
    "rice = food.new_node(\n",
    "    code=\"rice\",\n",
    "    name=\"rice\",\n",
    "    location=('regions', 'Valencia')\n",
    ")\n",
    "rice.save()\n",
    "rice.new_edge(\n",
    "    input=h2o,\n",
    "    amount=10,\n",
    "    type=\"biosphere\",\n",
    ").save()"
   ]
  },
  {
   "cell_type": "code",
   "execution_count": null,
   "id": "cd925e9b-634f-4b9a-b744-5e2f92826c09",
   "metadata": {},
   "outputs": [],
   "source": [
    "meal = food.new_node(\n",
    "    code=\"meal\",\n",
    "    name=\"meal\",\n",
    "    location=('cities', '14')\n",
    ")\n",
    "meal.save()\n",
    "meal.new_edge(\n",
    "    input=h2o,\n",
    "    amount=0.5,\n",
    "    type=\"biosphere\",\n",
    ").save()\n",
    "meal.new_edge(\n",
    "    input=lemon,\n",
    "    amount=0.25,\n",
    "    type=\"technosphere\",\n",
    ").save()\n",
    "meal.new_edge(\n",
    "    input=rice,\n",
    "    amount=1,\n",
    "    type=\"technosphere\",\n",
    ").save()\n",
    "meal.new_edge(\n",
    "    input=mushroom,\n",
    "    amount=0.5,\n",
    "    type=\"technosphere\",\n",
    ").save()"
   ]
  },
  {
   "cell_type": "code",
   "execution_count": null,
   "id": "d1e75cf2-6847-467e-9013-e42ca4d246e9",
   "metadata": {},
   "outputs": [],
   "source": [
    "meal.new_edge(\n",
    "    input=cheese,\n",
    "    amount=0.1,\n",
    "    type=\"technosphere\",\n",
    ").save()"
   ]
  },
  {
   "cell_type": "code",
   "execution_count": null,
   "id": "c36fabf3-7c13-4a63-9539-00cd1a4be093",
   "metadata": {},
   "outputs": [],
   "source": [
    "food.set_geocollections()\n",
    "bio.set_geocollections()"
   ]
  },
  {
   "cell_type": "markdown",
   "id": "6293df16-fb14-414f-9bfa-0fc00476731e",
   "metadata": {},
   "source": [
    "# Initial calculations"
   ]
  },
  {
   "cell_type": "code",
   "execution_count": null,
   "id": "6205ccbb-f466-4f12-8dec-a2e3536f7fae",
   "metadata": {},
   "outputs": [],
   "source": [
    "meal = bd.get_node(name=\"meal\")"
   ]
  },
  {
   "cell_type": "code",
   "execution_count": null,
   "id": "b6fed950-81df-41f1-9a1a-e9ac64b5e28a",
   "metadata": {},
   "outputs": [],
   "source": [
    "lca = bwr.ExtensionTablesLCA(\n",
    "    demand={meal: 1},\n",
    "    method=(\"water stress\",),\n",
    "    xtable='regions-water-stress - potatoe'\n",
    ")\n",
    "lca.lci()\n",
    "lca.lcia()"
   ]
  },
  {
   "cell_type": "code",
   "execution_count": null,
   "id": "33bef8dc-f024-4fc3-963b-ba0460e41bcf",
   "metadata": {},
   "outputs": [],
   "source": [
    "lca.geodataframe_xtable_spatial_scale().explore(column='score_rel')"
   ]
  }
 ],
 "metadata": {
  "kernelspec": {
   "display_name": "Python [conda env:regional]",
   "language": "python",
   "name": "conda-env-regional-py"
  },
  "language_info": {
   "codemirror_mode": {
    "name": "ipython",
    "version": 3
   },
   "file_extension": ".py",
   "mimetype": "text/x-python",
   "name": "python",
   "nbconvert_exporter": "python",
   "pygments_lexer": "ipython3",
   "version": "3.12.1"
  }
 },
 "nbformat": 4,
 "nbformat_minor": 5
}
