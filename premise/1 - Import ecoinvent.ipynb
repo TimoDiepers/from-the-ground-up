{
 "cells": [
  {
   "cell_type": "code",
   "execution_count": 1,
   "id": "143336fe-6809-42ad-ac73-70a2dca6e96b",
   "metadata": {},
   "outputs": [],
   "source": [
    "import bw2data as bd, bw2io as bi"
   ]
  },
  {
   "cell_type": "code",
   "execution_count": 6,
   "id": "9e560fb9-3861-4d74-881a-46f26ce010cb",
   "metadata": {},
   "outputs": [
    {
     "name": "stdout",
     "output_type": "stream",
     "text": [
      "Restoring project backup archive - this could take a few minutes...\n"
     ]
    },
    {
     "data": {
      "text/plain": [
       "'premise-25-ecoinvent-3.8-cutoff'"
      ]
     },
     "execution_count": 6,
     "metadata": {},
     "output_type": "execute_result"
    }
   ],
   "source": [
    "bi.remote.install_project('ecoinvent-3.8-biosphere', 'premise-25-ecoinvent-3.8-cutoff')"
   ]
  },
  {
   "cell_type": "code",
   "execution_count": 7,
   "id": "0a1440bf-6efb-4537-aab1-9d1091421789",
   "metadata": {},
   "outputs": [],
   "source": [
    "bd.projects.set_current('premise-25-ecoinvent-3.8-cutoff')"
   ]
  },
  {
   "cell_type": "markdown",
   "id": "3052839d-c052-4bff-a11a-bb21d1f73347",
   "metadata": {},
   "source": [
    "This is bleeding-edge Brightway 2.5, so some things aren't completely polished yet. We need to \"create\" this database object even though the data is already there."
   ]
  },
  {
   "cell_type": "code",
   "execution_count": 8,
   "id": "6f33ba29-36e5-4eac-b74f-330323471a09",
   "metadata": {},
   "outputs": [
    {
     "data": {
      "text/plain": [
       "Brightway2 Database: biosphere3 (sqlite)"
      ]
     },
     "execution_count": 8,
     "metadata": {},
     "output_type": "execute_result"
    }
   ],
   "source": [
    "bd.Database.create(name=\"biosphere3\")"
   ]
  },
  {
   "cell_type": "code",
   "execution_count": 9,
   "id": "0b7a747f-3d91-4b47-bbd6-7f8f464b006a",
   "metadata": {},
   "outputs": [
    {
     "data": {
      "text/plain": [
       "4427"
      ]
     },
     "execution_count": 9,
     "metadata": {},
     "output_type": "execute_result"
    }
   ],
   "source": [
    "len(bd.Database(\"biosphere3\"))"
   ]
  },
  {
   "cell_type": "code",
   "execution_count": 14,
   "id": "13c79deb-5f6e-4b49-9197-8673a2ff4e5c",
   "metadata": {},
   "outputs": [
    {
     "name": "stdout",
     "output_type": "stream",
     "text": [
      "Extracting XML data from 19565 datasets\n",
      "Extracted 19565 datasets in 129.91 seconds\n",
      "Applying strategy: normalize_units\n",
      "Applying strategy: update_ecoinvent_locations\n",
      "Applying strategy: remove_zero_amount_coproducts\n",
      "Applying strategy: remove_zero_amount_inputs_with_no_activity\n",
      "Applying strategy: remove_unnamed_parameters\n",
      "Applying strategy: es2_assign_only_product_with_amount_as_reference_product\n",
      "Applying strategy: assign_single_product_as_activity\n",
      "Applying strategy: create_composite_code\n",
      "Applying strategy: drop_unspecified_subcategories\n",
      "Applying strategy: fix_ecoinvent_flows_pre35\n",
      "Applying strategy: drop_temporary_outdated_biosphere_flows\n",
      "Applying strategy: link_biosphere_by_flow_uuid\n",
      "Applying strategy: link_internal_technosphere_by_composite_code\n",
      "Applying strategy: delete_exchanges_missing_activity\n",
      "Applying strategy: delete_ghost_exchanges\n",
      "Applying strategy: remove_uncertainty_from_negative_loss_exchanges\n",
      "Applying strategy: fix_unreasonably_high_lognormal_uncertainties\n",
      "Applying strategy: set_lognormal_loc_value\n",
      "Applying strategy: convert_activity_parameters_to_list\n",
      "Applying strategy: add_cpc_classification_from_single_reference_product\n",
      "Applying strategy: delete_none_synonyms\n",
      "Applying strategy: update_social_flows_in_older_consequential\n",
      "Applied 22 strategies in 9.73 seconds\n",
      "19565 datasets\n",
      "629959 exchanges\n",
      "0 unlinked exchanges\n",
      "  \n"
     ]
    },
    {
     "data": {
      "text/plain": [
       "True"
      ]
     },
     "execution_count": 14,
     "metadata": {},
     "output_type": "execute_result"
    }
   ],
   "source": [
    "ei = bi.SingleOutputEcospold2Importer(\n",
    "    \"/srv/data/ecoinvent/ecoinvent-3.8-cutoff/datasets\",\n",
    "    \"ecoinvent-3.8-cutoff\"\n",
    ")\n",
    "ei.apply_strategies()\n",
    "ei.all_linked"
   ]
  },
  {
   "cell_type": "code",
   "execution_count": 15,
   "id": "54f9b829-2878-4c63-ace9-f203d9557fa5",
   "metadata": {},
   "outputs": [
    {
     "name": "stdout",
     "output_type": "stream",
     "text": [
      "Not able to determine geocollections for all datasets. This database is not ready for regionalization.\n",
      "Warning: No valid output stream.\n",
      "Title: Writing activities to SQLite3 database:\n",
      "  Started: 06/09/2023 06:36:15\n",
      "  Finished: 06/09/2023 06:37:08\n",
      "  Total time elapsed: 00:00:53\n",
      "  CPU %: 90.60\n",
      "  Memory %: 2.77\n",
      "Created database: ecoinvent-3.8-cutoff\n"
     ]
    },
    {
     "data": {
      "text/plain": [
       "Brightway2 Database: ecoinvent-3.8-cutoff (sqlite)"
      ]
     },
     "execution_count": 15,
     "metadata": {},
     "output_type": "execute_result"
    }
   ],
   "source": [
    "ei.write_database()"
   ]
  },
  {
   "cell_type": "code",
   "execution_count": 17,
   "id": "9b60a6da-8bfd-45a9-92d1-a3f743b38938",
   "metadata": {},
   "outputs": [
    {
     "name": "stdout",
     "output_type": "stream",
     "text": [
      "Creating project backup archive - this could take a few minutes...\n"
     ]
    },
    {
     "data": {
      "text/plain": [
       "'premise-25-ecoinvent-3.8-cutoff'"
      ]
     },
     "execution_count": 17,
     "metadata": {},
     "output_type": "execute_result"
    }
   ],
   "source": [
    "bi.backup_project_directory('premise-25-ecoinvent-3.8-cutoff')"
   ]
  },
  {
   "cell_type": "code",
   "execution_count": null,
   "id": "1383df16-109c-4156-8359-2ca28ef646f2",
   "metadata": {},
   "outputs": [],
   "source": []
  }
 ],
 "metadata": {
  "kernelspec": {
   "display_name": "Python [conda env:bw25_premise]",
   "language": "python",
   "name": "conda-env-bw25_premise-py"
  },
  "language_info": {
   "codemirror_mode": {
    "name": "ipython",
    "version": 3
   },
   "file_extension": ".py",
   "mimetype": "text/x-python",
   "name": "python",
   "nbconvert_exporter": "python",
   "pygments_lexer": "ipython3",
   "version": "3.10.11"
  }
 },
 "nbformat": 4,
 "nbformat_minor": 5
}
