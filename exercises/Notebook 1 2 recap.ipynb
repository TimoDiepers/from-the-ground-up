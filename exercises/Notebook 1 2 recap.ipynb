{
 "cells": [
  {
   "cell_type": "markdown",
   "id": "bf08526f-011c-4867-a18a-4be239b4d0d9",
   "metadata": {},
   "source": [
    "# Inventory work with background databases\n",
    "\n",
    "We would like to model a house. You can choose what materials you need, but timber, glass, cement, brick are all reasonable choices. We don't need a realistic house, we just want to practice building on notebooks 1 and 2.\n",
    "\n",
    "Let's start by getting a background database."
   ]
  },
  {
   "cell_type": "code",
   "execution_count": null,
   "id": "44575f97-a86e-4b83-bb04-6a70d6b608f8",
   "metadata": {},
   "outputs": [],
   "source": [
    "import bw2io as bi"
   ]
  },
  {
   "cell_type": "code",
   "execution_count": null,
   "id": "3fce65a6-1f53-40cf-9267-60956ee99c56",
   "metadata": {
    "tags": []
   },
   "outputs": [],
   "source": [
    "bi.restore_project_directory(\"/srv/data/projects/ecoinvent-3.9-cutoff.tar.gz\", overwrite_existing=True)"
   ]
  },
  {
   "cell_type": "code",
   "execution_count": null,
   "id": "908f6a32-fd18-47c7-833e-ed72147fe7c2",
   "metadata": {},
   "outputs": [],
   "source": [
    "import bw2data as bd"
   ]
  },
  {
   "cell_type": "code",
   "execution_count": null,
   "id": "e9463817-41c3-4a26-afa6-500b5d2abf4d",
   "metadata": {},
   "outputs": [],
   "source": [
    "bd.projects.set_current('ecoinvent-3.9-cutoff')"
   ]
  },
  {
   "cell_type": "code",
   "execution_count": null,
   "id": "2882ef64-be17-41b2-8bf5-8fc7d1d9d74b",
   "metadata": {},
   "outputs": [],
   "source": [
    "bd.databases"
   ]
  },
  {
   "cell_type": "code",
   "execution_count": null,
   "id": "dfb74945-65eb-401a-88f3-f0887d3c400b",
   "metadata": {},
   "outputs": [],
   "source": [
    "ei = bd.Database(\"ecoinvent-3.9-cutoff\")"
   ]
  },
  {
   "cell_type": "code",
   "execution_count": null,
   "id": "e2e4104d-f739-49d7-b268-56acf4dd971e",
   "metadata": {},
   "outputs": [],
   "source": [
    "bd.methods"
   ]
  },
  {
   "cell_type": "markdown",
   "id": "71d303ec-0f12-47e1-9ac9-9815af52b60a",
   "metadata": {},
   "source": [
    "## Task 1\n",
    "\n",
    "Create a new `Database`. In this, create a single `Node` for your house.\n",
    "\n",
    "Then, create two more `Nodes` - one for materials and one for energy. Link them to you overarching house `Node`.\n",
    "\n",
    "Search ecoinvent and find the building materials you need and add them to the materials node. Add some natural gas (heating) and electricity (suitable for your location) to the energy `Node`.\n",
    "\n",
    "Then, find a suitable LCIA method, and calculate the impact of your node. You can use the following to explore where the impacts are coming from:\n",
    "\n",
    "```python\n",
    "bw2analyzer.print_recursive_supply_chain(your_hosue_node)\n",
    "bw2analyzer.print_recursive_calculation(your_hosue_node, your_method)\n",
    "```\n",
    "\n",
    "Use the `?` operator to read more about the options you can pass to `print_recursive_supply_chain` and `print_recursive_calculation`."
   ]
  },
  {
   "cell_type": "code",
   "execution_count": null,
   "id": "62c84a3b-ecb2-4dbc-9455-140298f22220",
   "metadata": {},
   "outputs": [],
   "source": []
  },
  {
   "cell_type": "code",
   "execution_count": null,
   "id": "1b04f086-0ae0-49e1-8bf0-9bbb1f1d197e",
   "metadata": {},
   "outputs": [],
   "source": []
  },
  {
   "cell_type": "markdown",
   "id": "3a10b6bf-5906-4f6b-9ecc-7e6875aaa602",
   "metadata": {},
   "source": [
    "## Task 2\n",
    "\n",
    "Create an alternative scenario for your house heating when switching to a heat pump, following the procedure we outlined in Notebook 2. When creating an LCA with \n",
    "\n",
    "```python\n",
    "lca = bc.LCA(\n",
    "    demand={something: some_number},\n",
    "    data_objs=[some, data, packages],\n",
    ")\n",
    "```\n",
    "\n",
    "You will need to get the datapackage objects for your functional unit. Use the following to do so:"
   ]
  },
  {
   "cell_type": "code",
   "execution_count": null,
   "id": "e043dde8-e768-4057-83db-473973bd51b4",
   "metadata": {},
   "outputs": [],
   "source": [
    "functional_unit, data_objs, remapping_dicts = bd.prepare_lca_inputs(\n",
    "    demand={something: some_number},\n",
    "    method=some_lcia_method,\n",
    ")"
   ]
  },
  {
   "cell_type": "markdown",
   "id": "3c9a0ab1-7790-4dbc-9050-7d58c6d2fe79",
   "metadata": {},
   "source": [
    "You can use these arguments like:"
   ]
  },
  {
   "cell_type": "code",
   "execution_count": null,
   "id": "511708d7-45df-48c8-b937-5e286ad2d303",
   "metadata": {},
   "outputs": [],
   "source": [
    "functional_unit, data_objs, remapping_dicts = bd.prepare_lca_inputs(\n",
    "    demand={ei.random(): 42},\n",
    "    method=bd.methods.random(),\n",
    ")"
   ]
  },
  {
   "cell_type": "code",
   "execution_count": null,
   "id": "363daf72-fe44-41b8-b0a1-d06e0dcca655",
   "metadata": {},
   "outputs": [],
   "source": [
    "import bw2calc as bc"
   ]
  },
  {
   "cell_type": "code",
   "execution_count": null,
   "id": "89b87da3-1859-419b-86c3-f261616b33aa",
   "metadata": {},
   "outputs": [],
   "source": [
    "lca = bc.LCA(\n",
    "    demand=functional_unit,\n",
    "    data_objs=data_objs,\n",
    "    remapping_dicts=remapping_dicts\n",
    ")\n",
    "lca.lci()\n",
    "lca.lcia()\n",
    "lca.score"
   ]
  },
  {
   "cell_type": "code",
   "execution_count": null,
   "id": "f2521453-345e-45d9-acb6-dfcb0e3e5b0f",
   "metadata": {},
   "outputs": [],
   "source": []
  }
 ],
 "metadata": {
  "kernelspec": {
   "display_name": "Python [conda env:bw25]",
   "language": "python",
   "name": "conda-env-bw25-py"
  },
  "language_info": {
   "codemirror_mode": {
    "name": "ipython",
    "version": 3
   },
   "file_extension": ".py",
   "mimetype": "text/x-python",
   "name": "python",
   "nbconvert_exporter": "python",
   "pygments_lexer": "ipython3",
   "version": "3.10.10"
  }
 },
 "nbformat": 4,
 "nbformat_minor": 5
}
